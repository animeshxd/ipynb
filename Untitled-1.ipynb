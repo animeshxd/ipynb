{
 "metadata": {
  "language_info": {
   "codemirror_mode": {
    "name": "ipython",
    "version": 3
   },
   "file_extension": ".py",
   "mimetype": "text/x-python",
   "name": "python",
   "nbconvert_exporter": "python",
   "pygments_lexer": "ipython3",
   "version": "3.8.5-final"
  },
  "orig_nbformat": 2,
  "kernelspec": {
   "name": "python_defaultSpec_1600101389351",
   "display_name": "Python 3.8.5 64-bit"
  }
 },
 "nbformat": 4,
 "nbformat_minor": 2,
 "cells": [
  {
   "cell_type": "code",
   "execution_count": 3,
   "metadata": {
    "tags": []
   },
   "outputs": [
    {
     "output_type": "stream",
     "name": "stdout",
     "text": "3\n"
    }
   ],
   "source": [
    "a = input(\"type: \")\n",
    "a2 = a\n",
    "if isinstance(a,int) == False:\n",
    "    print(a2)\n",
    "else:\n",
    "    print(\"not checked\")"
   ]
  },
  {
   "cell_type": "code",
   "execution_count": 32,
   "metadata": {
    "tags": []
   },
   "outputs": [
    {
     "output_type": "stream",
     "name": "stdout",
     "text": "hello\n"
    }
   ],
   "source": [
    "a = True\n",
    "new = \"123\"\n",
    "\n",
    "while new.isdigit():\n",
    "    print(\"hello\")\n",
    "    break"
   ]
  },
  {
   "cell_type": "code",
   "execution_count": null,
   "metadata": {},
   "outputs": [],
   "source": [
    "!type"
   ]
  },
  {
   "cell_type": "code",
   "execution_count": 1,
   "metadata": {},
   "outputs": [
    {
     "output_type": "error",
     "ename": "ModuleNotFoundError",
     "evalue": "No module named '_curses'",
     "traceback": [
      "\u001b[1;31m---------------------------------------------------------------------------\u001b[0m",
      "\u001b[1;31mModuleNotFoundError\u001b[0m                       Traceback (most recent call last)",
      "\u001b[1;32m<ipython-input-1-e1674f62cea8>\u001b[0m in \u001b[0;36m<module>\u001b[1;34m\u001b[0m\n\u001b[1;32m----> 1\u001b[1;33m \u001b[1;32mimport\u001b[0m \u001b[0mtime\u001b[0m\u001b[1;33m,\u001b[0m \u001b[0mcurses\u001b[0m\u001b[1;33m\u001b[0m\u001b[1;33m\u001b[0m\u001b[0m\n\u001b[0m\u001b[0;32m      2\u001b[0m \u001b[0mscr\u001b[0m \u001b[1;33m=\u001b[0m \u001b[0mcurses\u001b[0m\u001b[1;33m.\u001b[0m\u001b[0minitscr\u001b[0m\u001b[1;33m(\u001b[0m\u001b[1;33m)\u001b[0m\u001b[1;33m\u001b[0m\u001b[1;33m\u001b[0m\u001b[0m\n\u001b[0;32m      3\u001b[0m \u001b[0mscr\u001b[0m\u001b[1;33m.\u001b[0m\u001b[0maddstr\u001b[0m\u001b[1;33m(\u001b[0m\u001b[1;36m0\u001b[0m\u001b[1;33m,\u001b[0m \u001b[1;36m0\u001b[0m\u001b[1;33m,\u001b[0m \u001b[1;34m\"Current Time:\"\u001b[0m\u001b[1;33m)\u001b[0m\u001b[1;33m\u001b[0m\u001b[1;33m\u001b[0m\u001b[0m\n\u001b[0;32m      4\u001b[0m \u001b[0mscr\u001b[0m\u001b[1;33m.\u001b[0m\u001b[0maddstr\u001b[0m\u001b[1;33m(\u001b[0m\u001b[1;36m2\u001b[0m\u001b[1;33m,\u001b[0m \u001b[1;36m0\u001b[0m\u001b[1;33m,\u001b[0m \u001b[1;34m\"Hello World!\"\u001b[0m\u001b[1;33m)\u001b[0m\u001b[1;33m\u001b[0m\u001b[1;33m\u001b[0m\u001b[0m\n\u001b[0;32m      5\u001b[0m \u001b[1;32mwhile\u001b[0m \u001b[1;32mTrue\u001b[0m\u001b[1;33m:\u001b[0m\u001b[1;33m\u001b[0m\u001b[1;33m\u001b[0m\u001b[0m\n",
      "\u001b[1;32mC:\\Python38\\lib\\curses\\__init__.py\u001b[0m in \u001b[0;36m<module>\u001b[1;34m\u001b[0m\n\u001b[0;32m     11\u001b[0m \"\"\"\n\u001b[0;32m     12\u001b[0m \u001b[1;33m\u001b[0m\u001b[0m\n\u001b[1;32m---> 13\u001b[1;33m \u001b[1;32mfrom\u001b[0m \u001b[0m_curses\u001b[0m \u001b[1;32mimport\u001b[0m \u001b[1;33m*\u001b[0m\u001b[1;33m\u001b[0m\u001b[1;33m\u001b[0m\u001b[0m\n\u001b[0m\u001b[0;32m     14\u001b[0m \u001b[1;32mimport\u001b[0m \u001b[0mos\u001b[0m \u001b[1;32mas\u001b[0m \u001b[0m_os\u001b[0m\u001b[1;33m\u001b[0m\u001b[1;33m\u001b[0m\u001b[0m\n\u001b[0;32m     15\u001b[0m \u001b[1;32mimport\u001b[0m \u001b[0msys\u001b[0m \u001b[1;32mas\u001b[0m \u001b[0m_sys\u001b[0m\u001b[1;33m\u001b[0m\u001b[1;33m\u001b[0m\u001b[0m\n",
      "\u001b[1;31mModuleNotFoundError\u001b[0m: No module named '_curses'"
     ]
    }
   ],
   "source": [
    "import time, curses\n",
    "scr = curses.initscr()\n",
    "scr.addstr(0, 0, \"Current Time:\")\n",
    "scr.addstr(2, 0, \"Hello World!\")\n",
    "while True:\n",
    "    scr.addstr(0, 20, time.ctime())\n",
    "    scr.refresh()\n",
    "    time.sleep(1)"
   ]
  },
  {
   "cell_type": "code",
   "execution_count": 34,
   "metadata": {
    "tags": []
   },
   "outputs": [
    {
     "output_type": "stream",
     "name": "stdout",
     "text": "fck you\nhello\n"
    }
   ],
   "source": [
    "import os\n",
    "import os.path\n",
    "from os import path\n",
    "hello = path.exists('./myAnime/existed')\n",
    "while hello:\n",
    "    print(\"fck you\")\n",
    "    break\n",
    "if hello:\n",
    "    print(\"hello\")\n",
    "# os.mkdir(\"./new\")\n"
   ]
  },
  {
   "cell_type": "code",
   "execution_count": 16,
   "metadata": {
    "tags": []
   },
   "outputs": [
    {
     "output_type": "stream",
     "name": "stderr",
     "text": "'pwd' is not recognized as an internal or external command,\noperable program or batch file.\n"
    }
   ],
   "source": [
    "!pwd"
   ]
  },
  {
   "cell_type": "code",
   "execution_count": 40,
   "metadata": {
    "tags": []
   },
   "outputs": [
    {
     "output_type": "stream",
     "name": "stdout",
     "text": "hello frands\n"
    }
   ],
   "source": [
    "print(input(\"enter: \"))"
   ]
  },
  {
   "cell_type": "markdown",
   "metadata": {},
   "source": [
    "# search bar"
   ]
  },
  {
   "cell_type": "code",
   "execution_count": 1,
   "metadata": {
    "tags": []
   },
   "outputs": [
    {
     "output_type": "stream",
     "name": "stdout",
     "text": "0 :  XxxHolic\n1 :  XxxHolic Kei\n2 :  xxxHOLiC Rou\n3 :  xxxHOLiC (Dub)\n4 :  xxxHolic Shunmuki OVA\n5 :  xxxHolic: The Movie - A Midsummer Night`s Dream\nxxxHolic Shunmuki OVA\n/videos/xxxholic-shunmuki-ova-episode-2  test\nwithout ep: /videos/xxxholic-shunmuki-ova-episode-\nxxxholic shunmuki ova\nxxxholic_shunmuki_ova\nhi xxxholic_shunmuki_ova\nhttps://gogo-stream.com/videos/xxxholic-shunmuki-ova-episode-\n\nDownloading Episode 1\nhttps://gogo-stream.com/videos/xxxholic-shunmuki-ova-episode-1\nhttp://gogo-stream.com/ajax.php?id=MjQ0Njg=&title=xxxHolic+Shunmuki+OVA&typesub=SUB&sub=&cover=aW1hZ2VzL2FuaW1lL1gveHh4aG9saWMuanBn\nhttps://streaming06.cloud9xx.com/videos/hls/DiDkRIGUbA0IJRzW8kwGyA/1600103088/24468/ea74e16657e13fb90f61b8d190ab4ddc/sub.1.m3u8\nmp4 :  False\nm3u8:  True\nhttps://streaming06.cloud9xx.com/videos/hls/DiDkRIGUbA0IJRzW8kwGyA/1600103088/24468/ea74e16657e13fb90f61b8d190ab4ddc/sub.1.m3u8\nmp4 :  False\nm3u8:  True\nphp missing\nhttp://gogo-stream.com/ajax.php?id=MjQ0Njg=&title=xxxHolic+Shunmuki+OVA&typesub=SUB&sub=&cover=aW1hZ2VzL2FuaW1lL1gveHh4aG9saWMuanBn\n\nDownloading Episode 2\nhttps://gogo-stream.com/videos/xxxholic-shunmuki-ova-episode-2\nhttp://gogo-stream.com/ajax.php?id=MjQ0Njk=&title=xxxHolic+Shunmuki+OVA&typesub=SUB&sub=&cover=aW1hZ2VzL2FuaW1lL1gveHh4aG9saWMuanBn\nhttps://streaming07.cloud9xx.com/videos/hls/0pZVTnIgyfzYxrgR28mqrA/1600103090/24469/ea74e16657e13fb90f61b8d190ab4ddc/sub.2.m3u8\nmp4 :  False\nm3u8:  True\nhttps://streaming07.cloud9xx.com/videos/hls/0pZVTnIgyfzYxrgR28mqrA/1600103090/24469/ea74e16657e13fb90f61b8d190ab4ddc/sub.2.m3u8\nmp4 :  False\nm3u8:  True\nphp missing\nhttp://gogo-stream.com/ajax.php?id=MjQ0Njk=&title=xxxHolic+Shunmuki+OVA&typesub=SUB&sub=&cover=aW1hZ2VzL2FuaW1lL1gveHh4aG9saWMuanBn\n\nDownloading Episode 3\nhttps://gogo-stream.com/videos/xxxholic-shunmuki-ova-episode-3\nNo Anime Available\nlast\n"
    }
   ],
   "source": [
    "import requests\n",
    "import json\n",
    "from urllib.request import urlopen, Request\n",
    "from bs4 import BeautifulSoup\n",
    "import ast\n",
    "import os\n",
    "import os.path\n",
    "from os import path\n",
    "import requests\n",
    "import sys\n",
    "import string\n",
    "\n",
    "\n",
    "\n",
    "search = input(\"Name: \")\n",
    "url = f\"https://gogo-stream.com/ajax-search.html?keyword={search}\"  # url\n",
    "url = url.replace(\" \", \"%20\")  # replace userinput 'space' with %20\n",
    "\n",
    "headers = {'User-Agent': 'Mozilla/5.0 (X11; Linux x86_64) AppleWebKit/537.11 (KHTML, like Gecko) Chrome/23.0.1271.64 Safari/537.11',\n",
    "           'Accept': 'text/html,application/xhtml+xml,application/xml;q=0.9,*/*;q=0.8',\n",
    "           'Accept-Charset': 'ISO-8859-1,utf-8;q=0.7,*;q=0.3',\n",
    "           'Accept-Encoding': 'none',\n",
    "           'Accept-Language': 'en-US,en;q=0.8',\n",
    "           'Connection': 'keep-alive',\n",
    "           'X-Requested-With': 'XMLHttpRequest'}\n",
    "\n",
    "\n",
    "x = Request(url=url,  headers=headers)\n",
    "html = urlopen(x)\n",
    "search_t = BeautifulSoup(html.read(), \"html5lib\")\n",
    "\n",
    "Count_t = -1\n",
    "search_loop_main = True\n",
    "search_loop_snd = True\n",
    "list_i_loop_next = False\n",
    "\n",
    "\n",
    "while search_loop_main:\n",
    "\n",
    "    while search_loop_snd:\n",
    "\n",
    "        if str(search_t.findAll('a')) == \"[]\":\n",
    "            print(\"Anime not found\")\n",
    "            list_i_loop_next = False\n",
    "            break\n",
    "\n",
    "        for node in search_t.findAll('a'):\n",
    "\n",
    "            Count_t = Count_t + 1\n",
    "            rslt2 = ''.join(node.findAll(text=True))\n",
    "            rslt2 = (rslt2.replace(\"<\\/a><\\/li>\", \"\"))\n",
    "            rslt2 = rslt2.replace('<\\/ul>\"}', '')\n",
    "\n",
    "            print(Count_t, \": \", rslt2)\n",
    "\n",
    "        synlist = search_t.find_all(\"a\", text=True)\n",
    "\n",
    "        list_i_loop = True\n",
    "\n",
    "        while list_i_loop:\n",
    "            list_i = input(\"\")\n",
    "\n",
    "            if list_i == \"q\" or list_i == \"quit\":\n",
    "                list_i_loop_next = False\n",
    "\n",
    "                break\n",
    "            elif list_i.isdigit() == False:\n",
    "                print(\"not integer value\")\n",
    "                continue\n",
    "            elif int(list_i) > Count_t:\n",
    "                print(\"Not Available\")\n",
    "                continue\n",
    "            elif list_i.isdigit():\n",
    "                # print(type(synlist))\n",
    "                str_list = str(synlist[int(list_i)].text)\n",
    "                str_list = (str_list.replace(\"<\\/a><\\/li>\", \"\"))\n",
    "                str_list = str_list.replace('<\\/ul>\"}', '')\n",
    "                print(str_list)\n",
    "                list_i_loop_next = True\n",
    "\n",
    "                links_with_raw = [a['href'] for a in search_t.find_all('a', href=True) if a.text]\n",
    "                linkisgood = str(links_with_raw[int(list_i)])\n",
    "                # linkisgood = linkisgood.replace('\\\\\"','')\n",
    "                linkisgood = linkisgood.replace('\\\\','')\n",
    "                linkisgood = linkisgood.replace('\"','')\n",
    "\n",
    "                # https://vidstreaming.io/videos/\n",
    "\n",
    "                #\\\"\\/videos\\/xxxholic-the-movie-a-midsummer-nights-dream-episode-1\\\"\n",
    "                print(linkisgood, \" test\")\n",
    "\n",
    "\n",
    "                Anime_Url = linkisgood.rstrip(string.digits)\n",
    "                print(\"without ep:\",Anime_Url)\n",
    "\n",
    "                Anime_Name = f\"{str_list}\"\n",
    "                # links_with_text = [a['href'] for a in search_t.find_all('a', href=True) if a.text]\n",
    "                # links_with_text[2]\n",
    "\n",
    "                Anime_Name = Anime_Name.lower()\n",
    "                Anime_Name = Anime_Name.replace('-','')\n",
    "                print(Anime_Name)\n",
    "                Anime_Name = Anime_Name.replace('  ','_')\n",
    "                Anime_Name = Anime_Name.replace(' ','_')\n",
    "                print(Anime_Name)\n",
    "                characters_to_remove = \"():*!@#$%^&*+=|\\/`~<>?\\\"}{[]:;`\"\n",
    "\n",
    "            \n",
    "                for character in characters_to_remove:\n",
    "                    Anime_Name = Anime_Name.replace(character, \"\")\n",
    "                    \n",
    "\n",
    "\n",
    "\n",
    "                break\n",
    "            \n",
    "            else:\n",
    "                list_i = 0\n",
    "            break\n",
    "\n",
    "        if list_i_loop_next:\n",
    "\n",
    "            \n",
    "        \n",
    "            \n",
    "        #xxxholic-the-movie-a-midsummer-nights-dream\n",
    "        #xxxholic-the-movie---a-midsummer-nights-dream\n",
    "        #xxxholic-the-movie--a-midsummer-nights-dream\n",
    "        #xxxHolic: The Movie - A Midsummer Night`s Dream\n",
    "        #xxxholic-the-movie-a-midsummer-nights-dream\n",
    "\n",
    "\n",
    "\n",
    "\n",
    "\n",
    "\n",
    "\n",
    "\n",
    "\n",
    "\n",
    "\n",
    "\n",
    "            print(\"hi\",Anime_Name)\n",
    "\n",
    "            Anime_Url = f\"https://gogo-stream.com{Anime_Url}\"\n",
    "            #/videos/xxxholic-the-movie-a-midsummer-nights-dream-episode-\n",
    "\n",
    "            #\\videos\\xxxholic-the-movie-a-midsummer-nights-dream-episode-\n",
    "\n",
    "            print(Anime_Url)\n",
    "\n",
    "        #     # https://gogo-stream.com/videos/xxxholic-shunmuki-ova-episode-\n",
    "        #     # https://gogo-stream.com/videos/xxxholic-shunmuki-ova-epispde-\n",
    "\n",
    "            headers = {'User-Agent': 'Mozilla/5.0 (Windows NT 10.0; Win64; x64) AppleWebKit/537.36 (KHTML, like Gecko) Chrome/85.0.4183.102 Safari/537.36',\n",
    "           'Accept': 'text/html,application/xhtml+xml,application/xml;q=0.9,*/*;q=0.8',\n",
    "           'Accept-Charset': 'ISO-8859-1,utf-8;q=0.7,*;q=0.3',\n",
    "           'Accept-Encoding': 'none',\n",
    "           'Accept-Language': 'en-US,en;q=0.8',\n",
    "           'Connection': 'keep-alive'\n",
    "           \n",
    "           }\n",
    "            \n",
    "            Anime_Episode = 0\n",
    "            Anime_Start = 0\n",
    "            Main_Loop = True\n",
    "\n",
    "            Folder_check = path.exists(f\"./Anime_downloader/{Anime_Name}\")\n",
    "            while Folder_check == False:\n",
    "                os.makedirs(f\"./Anime_downloader/{Anime_Name}\")\n",
    "                break\n",
    "\n",
    "\n",
    "            while Main_Loop:\n",
    "                # Anime_Episode = 1\n",
    "                Anime_Episode = Anime_Episode + 1\n",
    "                Anime_Name_Full = f\"{Anime_Name}_{Anime_Episode}\"\n",
    "                # print(Anime_Name_Full)\n",
    "                print(f\"\\nDownloading Episode {Anime_Episode}\")\n",
    "\n",
    "                reg_url = f\"{Anime_Url}{Anime_Episode}\"\n",
    "                print(reg_url)\n",
    "\n",
    "                my_request = Request(url=reg_url, headers=headers)\n",
    "\n",
    "                html = urlopen(my_request)\n",
    "                my_iframe = BeautifulSoup(html.read(), \"html5lib\")\n",
    "                error = my_iframe.body.get_text()\n",
    "                # print(error)\n",
    "                if error == \"404\\n\":\n",
    "                    print(\"No Anime Available\")\n",
    "                    break\n",
    "                vidstreaming = \"http:\" + str(my_iframe.iframe[\"src\"])\n",
    "\n",
    "                # print(vidstreaming)\n",
    "                vidstreaming = vidstreaming.replace('streaming.php', 'ajax.php')\n",
    "                print(vidstreaming)\n",
    "\n",
    "                my_request = Request(url=vidstreaming, headers=headers)\n",
    "                html = urlopen(my_request)\n",
    "                my_iframe = BeautifulSoup(html.read(), \"html5lib\")\n",
    "                # print(my_iframe)\n",
    "                stream_json = my_iframe.body.get_text()\n",
    "\n",
    "                # print(stream_json)\n",
    "                # print(type(stream_json))\n",
    "\n",
    "                stream_json = json.loads(stream_json)\n",
    "\n",
    "                # print(stream_json)\n",
    "\n",
    "                # print(type(stream_json))\n",
    "\n",
    "                stream_json_1 = stream_json['source']\n",
    "                \n",
    "                stream_json_1 = str(stream_json_1)\n",
    "                stream_json_1 = stream_json_1.replace('[', '')\n",
    "                stream_json_1 = stream_json_1.replace(']', '')\n",
    "                stream_json_1 = ast.literal_eval(stream_json_1)\n",
    "                stream_json_1 = stream_json_1.get(\"file\")\n",
    "                print(stream_json_1)\n",
    "                stream_json_1_Status_mp4 = \"php\" in stream_json_1\n",
    "                stream_json_1_Status_m3u8 = \"m3u8\" in stream_json_1\n",
    "                print(\"mp4 : \",stream_json_1_Status_mp4)\n",
    "                print(\"m3u8: \",stream_json_1_Status_m3u8)\n",
    "\n",
    "\n",
    "                stream_json = stream_json['source_bk']\n",
    "                \n",
    "                stream_json = str(stream_json)\n",
    "                stream_json = stream_json.replace('[', '')\n",
    "                stream_json = stream_json.replace(']', '')\n",
    "                # print(type(stream_json))\n",
    "                stream_json = ast.literal_eval(stream_json)\n",
    "                # print(stream_jsonn)\n",
    "                stream_json = stream_json.get(\"file\")\n",
    "                print(stream_json)\n",
    "\n",
    "                stream_json_Status_mp4 = \"mp4\" in stream_json\n",
    "                stream_json_Status_m3u8 = \"m3u8\" in stream_json\n",
    "\n",
    "                print(\"mp4 : \",stream_json_Status_mp4)\n",
    "                print(\"m3u8: \",stream_json_Status_m3u8)\n",
    "\n",
    "                if stream_json_1_Status_mp4 == False:\n",
    "                    # stream_json_url = stream_json_1\n",
    "                    print(\"php missing\")\n",
    "                    \n",
    "                else:\n",
    "                    print(\"mp4 available\")\n",
    "                print(vidstreaming)\n",
    "\n",
    "                    \n",
    "\n",
    "\n",
    "\n",
    "\n",
    "\n",
    "\n",
    "\n",
    "\n",
    "\n",
    "\n",
    "\n",
    "\n",
    "\n",
    "\n",
    "\n",
    "\n",
    "\n",
    "\n",
    "                # Anime_download_path = f\"./Anime_downloader/{Anime_Name}/{Anime_Name_Full}.mp4\"\n",
    "\n",
    "                # with open(Anime_download_path, \"wb\") as f:\n",
    "                #     print(\"Downloading %s\" % Anime_Name_Full)\n",
    "                #     response = requests.get(stream_json, headers={'Referer' : f'{vidstreaming}'}, stream=True, allow_redirects=True)\n",
    "                #     total_length = response.headers.get('content-length')\n",
    "                #     print(total_length)\n",
    "                #     print(\"File size: %s MB\" % int(int(total_length) / (1024 * 1024)))\n",
    "\n",
    "                #     if total_length is None:  # no content length header\n",
    "                #         f.write(response.content)\n",
    "                #     else:\n",
    "                #         dl = 0\n",
    "                #         total_length = int(total_length)\n",
    "                #         # 1000 equals to 1 MB bandwidth\n",
    "                #         for data in response.iter_content(chunk_size=100000):\n",
    "                #             dl += len(data)\n",
    "                #             f.write(data)\n",
    "                #             done = int(40 * dl / total_length)\n",
    "                #             sys.stdout.write(\"\\r[%s%s]\" % ('█' * done, ' ' * (40-done)))\n",
    "                #             sys.stdout.flush()\n",
    "\n",
    "\n",
    "            #██████████████████████████████████████████████████\n",
    "\n",
    "\n",
    "\n",
    "\n",
    "\n",
    "\n",
    "\n",
    "\n",
    "\n",
    "\n",
    "\n",
    "            print(\"last\")\n",
    "        else:\n",
    "            print(\"sorry\")\n",
    "\n",
    "        break\n",
    "\n",
    "    \n",
    "\n",
    "    break\n",
    "\n",
    "    \n",
    "\n",
    "    \n",
    "    \n",
    "\n",
    "\n",
    "\n",
    "\n",
    "    \n",
    "\n",
    "\n",
    "\n",
    "\n",
    "\n",
    "\n",
    "\n",
    "\n",
    "\n",
    "\n",
    "\n",
    "\n",
    "\n",
    "\n",
    "\n",
    "    # Bye_Bye = input(\"Type 1 to exit\\nType 2 to Retry : \")\n",
    "    # if Bye_Bye == \"1\":\n",
    "    #     break\n",
    "    # elif Bye_Bye == \"2\":\n",
    "    #     continue\n",
    "    # else:\n",
    "    #     print(\"Sayonara\")\n",
    "    #     break\n",
    "\n",
    "\n",
    "\n",
    "# /html/body/ul/li[1]/a\n"
   ]
  },
  {
   "cell_type": "code",
   "execution_count": 44,
   "metadata": {
    "tags": []
   },
   "outputs": [
    {
     "output_type": "stream",
     "name": "stdout",
     "text": "['hi', 'banana', 'cherry']\n<class 'list'>\n"
    }
   ],
   "source": [
    "#https://vidstreaming.io/videos/xxxholic-shunmuki-ova-episode-1\n",
    "#https://vidstreaming.io/videos/xxxholic-shunmuki-ova-epispde-1\n",
    "\n",
    "\n",
    "\n",
    "\n",
    "\n",
    "\n",
    "new = \"hi\"\n",
    "x = [f\"{new}\", \"banana\", \"cherry\"]\n",
    "\n",
    "#display x:\n",
    "print(x)\n",
    "\n",
    "#display the data type of x:\n",
    "print(type(x)) \n"
   ]
  },
  {
   "cell_type": "code",
   "execution_count": 60,
   "metadata": {
    "tags": []
   },
   "outputs": [
    {
     "output_type": "stream",
     "name": "stdout",
     "text": "one-piece-movie-14-stampede\n"
    }
   ],
   "source": [
    "original_string = \"One Piece Movie 14: Stampede\"\n",
    "original_string = original_string.lower()\n",
    "original_string = original_string.replace(' ','-')\n",
    "characters_to_remove = \"():\"\n",
    "\n",
    "new_string = original_string\n",
    "for character in characters_to_remove:\n",
    "  new_string = new_string.replace(character, \"\")\n",
    "\n",
    "print(new_string)\n"
   ]
  },
  {
   "cell_type": "code",
   "execution_count": 85,
   "metadata": {
    "tags": []
   },
   "outputs": [
    {
     "output_type": "stream",
     "name": "stdout",
     "text": "1\n"
    }
   ],
   "source": [
    "a = -1 + 2\n",
    "print(a)"
   ]
  },
  {
   "cell_type": "code",
   "execution_count": 8,
   "metadata": {
    "tags": []
   },
   "outputs": [
    {
     "output_type": "stream",
     "name": "stdout",
     "text": "not integer value\nnot integer value\nnot integer value\nnot integer value\nnot integer value\nnot integer value\nnot integer value\nnot integer value\nnot integer value\nnot integer value\nnot integer value\nq\n"
    }
   ],
   "source": [
    "while list_i_loop:\n",
    "    list_i = input(\"\")\n",
    "\n",
    "    if list_i == \"q\" or list_i == \"quit\":\n",
    "        break\n",
    "    elif list_i.isdigit() == False:\n",
    "        print(\"not integer value\")\n",
    "        continue\n",
    "    elif int(list_i) > Count_t:\n",
    "        print(\"Not Available\")\n",
    "        continue\n",
    "    elif list_i.isdigit():\n",
    "        break\n",
    "    else:\n",
    "        list_i = 0\n",
    "    break\n",
    "print(list_i)"
   ]
  },
  {
   "cell_type": "code",
   "execution_count": 25,
   "metadata": {
    "tags": []
   },
   "outputs": [
    {
     "output_type": "stream",
     "name": "stdout",
     "text": "\\\"\\/videos\\/one-piece-dub-episode-600\\\"\n"
    }
   ],
   "source": [
    "import requests\n",
    "import json\n",
    "from urllib.request import urlopen, Request\n",
    "from bs4 import BeautifulSoup\n",
    "\n",
    "url = \"https://vidstreaming.io/ajax-search.html?keyword=one%20piece\" # url\n",
    "\n",
    "\n",
    "headers = {'User-Agent': 'Mozilla/5.0 (X11; Linux x86_64) AppleWebKit/537.11 (KHTML, like Gecko) Chrome/23.0.1271.64 Safari/537.11',\n",
    "           'Accept': 'text/html,application/xhtml+xml,application/xml;q=0.9,*/*;q=0.8',\n",
    "           'Accept-Charset': 'ISO-8859-1,utf-8;q=0.7,*;q=0.3',\n",
    "           'Accept-Encoding': 'none',\n",
    "           'Accept-Language': 'en-US,en;q=0.8',\n",
    "           'Connection': 'keep-alive',\n",
    "           'X-Requested-With':'XMLHttpRequest'}\n",
    "\n",
    "\n",
    "x = Request(url=url,  headers=headers)\n",
    "html = urlopen(x)\n",
    "search_t = BeautifulSoup(html.read(), \"html5lib\")\n",
    "\n",
    "\n",
    "links_with_text = [a['href'] for a in search_t.find_all('a', href=True) if a.text]\n",
    "print(links_with_text[2])\n",
    "\n",
    "\n",
    "# print(search_t.findAll('a'))\n",
    "# if str(search_t.findAll('a')) == \"[]\":\n",
    "#     print(\"Anime not found\")\n",
    "# lol = search_t.a['href']\n",
    "# print(lol[1])\n",
    "\n",
    "\n",
    "# for a in search_t.find_all('a', href=True):\n",
    "    # print(\"Found the URL:\", a['href'])\n",
    "\n",
    "#  ('a', href=True)\n",
    "\n"
   ]
  },
  {
   "cell_type": "code",
   "execution_count": 12,
   "metadata": {
    "tags": []
   },
   "outputs": [
    {
     "output_type": "stream",
     "name": "stdout",
     "text": "Volume in drive C is WIN 10\n Volume Serial Number is 5A61-3CDA\n\n Directory of c:\\Users\\MSI\\Desktop\n\n13-09-2020  17:20    <DIR>          .\n13-09-2020  17:20    <DIR>          ..\n05-09-2020  13:10             1,390 AndroidEmulator.lnk\n13-09-2020  17:30             6,633 eeeeeeeeeeee.py\n10-09-2020  16:20                 5 go.txt\n09-09-2020  14:40                24 hi\n11-09-2020  18:46             5,601 import webbrowser.py\n10-09-2020  20:33    <DIR>          myAnime\n13-09-2020  15:53                 0 sssssssss.py\n13-09-2020  16:00             2,492 tempCodeRunnerFile.py\n13-09-2020  13:35             1,302 Untitled-1.html\n13-09-2020  18:03            23,244 Untitled-1.ipynb\n12-09-2020  09:19                 0 Untitled-1.json\n12-09-2020  10:04                 0 Untitled-17.json\n10-09-2020  20:13             3,693 vidstrm.py\n              12 File(s)         44,384 bytes\n               3 Dir(s)  269,901,316,096 bytes free\n"
    }
   ],
   "source": [
    "!dir\n"
   ]
  },
  {
   "cell_type": "code",
   "execution_count": null,
   "metadata": {
    "tags": []
   },
   "outputs": [],
   "source": [
    "import subprocess\n",
    "\n",
    "process = subprocess.Popen([\"curl\", \"-o o.jpg\", \"http://commondatastorage.googleapis.com/gtv-videos-bucket/sample/BigBuckBunny.mp4\"], \n",
    "                           stdout=subprocess.PIPE,\n",
    "                           universal_newlines=True)\n",
    "\n",
    "while True:\n",
    "    output = process.stdout.readline()\n",
    "    print(output.strip())\n",
    "    # Do something else\n",
    "    return_code = process.poll()\n",
    "    if return_code is not None:\n",
    "        print('RETURN CODE', return_code)\n",
    "        # Process has finished, read rest of the output \n",
    "        for output in process.stdout.readlines():\n",
    "            print(output.strip())\n",
    "        break"
   ]
  },
  {
   "cell_type": "code",
   "execution_count": 2,
   "metadata": {
    "tags": []
   },
   "outputs": [
    {
     "output_type": "stream",
     "name": "stdout",
     "text": "2002-dfcxbvc9hgfb\n"
    }
   ],
   "source": [
    "\n",
    "\n",
    "import string\n",
    "yourstring = \"2002-dfcxbvc9hgfb000\"\n",
    "\n",
    "cleaned = yourstring.rstrip(string.digits)\n",
    "print(cleaned)"
   ]
  },
  {
   "cell_type": "code",
   "execution_count": 19,
   "metadata": {},
   "outputs": [
    {
     "output_type": "error",
     "ename": "SyntaxError",
     "evalue": "invalid syntax (<ipython-input-19-ea7bbfd6e151>, line 3)",
     "traceback": [
      "\u001b[1;36m  File \u001b[1;32m\"<ipython-input-19-ea7bbfd6e151>\"\u001b[1;36m, line \u001b[1;32m3\u001b[0m\n\u001b[1;33m    c =(a = b)\u001b[0m\n\u001b[1;37m          ^\u001b[0m\n\u001b[1;31mSyntaxError\u001b[0m\u001b[1;31m:\u001b[0m invalid syntax\n"
     ]
    }
   ],
   "source": [
    "a = 1\n",
    "b = 2\n",
    "c =(a == b)"
   ]
  },
  {
   "cell_type": "code",
   "execution_count": null,
   "metadata": {},
   "outputs": [],
   "source": []
  }
 ]
}